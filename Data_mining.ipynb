{
 "cells": [
  {
   "cell_type": "markdown",
   "id": "1d5ef637",
   "metadata": {},
   "source": [
    "# Author: Sanjay Kazi"
   ]
  },
  {
   "cell_type": "markdown",
   "id": "b1759fd7",
   "metadata": {},
   "source": [
    "# Downloading BSESN historial price data using Yahoo Finance API"
   ]
  },
  {
   "cell_type": "markdown",
   "id": "86bbba65",
   "metadata": {},
   "source": [
    "- if you want to know more about API feel free to visit https://algotrading101.com/learn/yahoo-finance-api-guide/"
   ]
  },
  {
   "cell_type": "code",
   "execution_count": 39,
   "id": "b0a79592",
   "metadata": {},
   "outputs": [],
   "source": [
    "import pandas as pd\n",
    "import yfinance as yf\n",
    "import datetime\n",
    "import time\n",
    "import requests\n",
    "import io"
   ]
  },
  {
   "cell_type": "code",
   "execution_count": 40,
   "id": "e61c97f5",
   "metadata": {},
   "outputs": [
    {
     "name": "stdout",
     "output_type": "stream",
     "text": [
      "Requirement already satisfied: yahoo_fin in c:\\users\\sanja\\anaconda3\\lib\\site-packages (0.8.8)\n",
      "Requirement already satisfied: feedparser in c:\\users\\sanja\\anaconda3\\lib\\site-packages (from yahoo_fin) (6.0.2)\n",
      "Requirement already satisfied: requests-html in c:\\users\\sanja\\anaconda3\\lib\\site-packages (from yahoo_fin) (0.10.0)\n",
      "Requirement already satisfied: requests in c:\\users\\sanja\\anaconda3\\lib\\site-packages (from yahoo_fin) (2.25.1)\n",
      "Requirement already satisfied: pandas in c:\\users\\sanja\\anaconda3\\lib\\site-packages (from yahoo_fin) (1.2.1)\n",
      "Requirement already satisfied: sgmllib3k in c:\\users\\sanja\\anaconda3\\lib\\site-packages (from feedparser->yahoo_fin) (1.0.0)\n",
      "Requirement already satisfied: numpy>=1.16.5 in c:\\users\\sanja\\anaconda3\\lib\\site-packages (from pandas->yahoo_fin) (1.19.2)\n",
      "Requirement already satisfied: pytz>=2017.3 in c:\\users\\sanja\\anaconda3\\lib\\site-packages (from pandas->yahoo_fin) (2021.1)\n",
      "Requirement already satisfied: python-dateutil>=2.7.3 in c:\\users\\sanja\\anaconda3\\lib\\site-packages (from pandas->yahoo_fin) (2.8.1)\n",
      "Requirement already satisfied: six>=1.5 in c:\\users\\sanja\\appdata\\roaming\\python\\python38\\site-packages (from python-dateutil>=2.7.3->pandas->yahoo_fin) (1.15.0)\n",
      "Requirement already satisfied: chardet<5,>=3.0.2 in c:\\users\\sanja\\anaconda3\\lib\\site-packages (from requests->yahoo_fin) (3.0.4)\n",
      "Requirement already satisfied: urllib3<1.27,>=1.21.1 in c:\\users\\sanja\\anaconda3\\lib\\site-packages (from requests->yahoo_fin) (1.26.4)\n",
      "Requirement already satisfied: idna<3,>=2.5 in c:\\users\\sanja\\anaconda3\\lib\\site-packages (from requests->yahoo_fin) (2.10)\n",
      "Requirement already satisfied: certifi>=2017.4.17 in c:\\users\\sanja\\anaconda3\\lib\\site-packages (from requests->yahoo_fin) (2020.12.5)\n",
      "Requirement already satisfied: pyppeteer>=0.0.14 in c:\\users\\sanja\\anaconda3\\lib\\site-packages (from requests-html->yahoo_fin) (0.2.5)\n",
      "Requirement already satisfied: fake-useragent in c:\\users\\sanja\\anaconda3\\lib\\site-packages (from requests-html->yahoo_fin) (0.1.11)\n",
      "Requirement already satisfied: parse in c:\\users\\sanja\\anaconda3\\lib\\site-packages (from requests-html->yahoo_fin) (1.19.0)\n",
      "Requirement already satisfied: pyquery in c:\\users\\sanja\\anaconda3\\lib\\site-packages (from requests-html->yahoo_fin) (1.4.3)\n",
      "Requirement already satisfied: w3lib in c:\\users\\sanja\\anaconda3\\lib\\site-packages (from requests-html->yahoo_fin) (1.21.0)\n",
      "Requirement already satisfied: bs4 in c:\\users\\sanja\\anaconda3\\lib\\site-packages (from requests-html->yahoo_fin) (0.0.1)\n",
      "Requirement already satisfied: tqdm<5.0.0,>=4.42.1 in c:\\users\\sanja\\anaconda3\\lib\\site-packages (from pyppeteer>=0.0.14->requests-html->yahoo_fin) (4.59.0)\n",
      "Requirement already satisfied: appdirs<2.0.0,>=1.4.3 in c:\\users\\sanja\\anaconda3\\lib\\site-packages (from pyppeteer>=0.0.14->requests-html->yahoo_fin) (1.4.4)\n",
      "Requirement already satisfied: pyee<9.0.0,>=8.1.0 in c:\\users\\sanja\\anaconda3\\lib\\site-packages (from pyppeteer>=0.0.14->requests-html->yahoo_fin) (8.1.0)\n"
     ]
    },
    {
     "name": "stderr",
     "output_type": "stream",
     "text": [
      "WARNING: You are using pip version 21.0.1; however, version 21.1.1 is available.\n",
      "You should consider upgrading via the 'C:\\Users\\sanja\\Anaconda3\\python.exe -m pip install --upgrade pip' command.\n"
     ]
    },
    {
     "name": "stdout",
     "output_type": "stream",
     "text": [
      "Requirement already satisfied: websockets<9.0,>=8.1 in c:\\users\\sanja\\anaconda3\\lib\\site-packages (from pyppeteer>=0.0.14->requests-html->yahoo_fin) (8.1)\n",
      "Requirement already satisfied: beautifulsoup4 in c:\\users\\sanja\\anaconda3\\lib\\site-packages (from bs4->requests-html->yahoo_fin) (4.9.3)\n",
      "Requirement already satisfied: soupsieve>1.2 in c:\\users\\sanja\\anaconda3\\lib\\site-packages (from beautifulsoup4->bs4->requests-html->yahoo_fin) (2.2.1)\n",
      "Requirement already satisfied: cssselect>0.7.9 in c:\\users\\sanja\\anaconda3\\lib\\site-packages (from pyquery->requests-html->yahoo_fin) (1.1.0)\n",
      "Requirement already satisfied: lxml>=2.1 in c:\\users\\sanja\\anaconda3\\lib\\site-packages (from pyquery->requests-html->yahoo_fin) (4.6.3)\n"
     ]
    }
   ],
   "source": [
    "!pip install yahoo_fin"
   ]
  },
  {
   "cell_type": "code",
   "execution_count": 44,
   "id": "7ace6080",
   "metadata": {},
   "outputs": [
    {
     "data": {
      "text/html": [
       "<div>\n",
       "<style scoped>\n",
       "    .dataframe tbody tr th:only-of-type {\n",
       "        vertical-align: middle;\n",
       "    }\n",
       "\n",
       "    .dataframe tbody tr th {\n",
       "        vertical-align: top;\n",
       "    }\n",
       "\n",
       "    .dataframe thead th {\n",
       "        text-align: right;\n",
       "    }\n",
       "</style>\n",
       "<table border=\"1\" class=\"dataframe\">\n",
       "  <thead>\n",
       "    <tr style=\"text-align: right;\">\n",
       "      <th></th>\n",
       "      <th>date</th>\n",
       "      <th>open</th>\n",
       "      <th>high</th>\n",
       "      <th>low</th>\n",
       "      <th>close</th>\n",
       "      <th>adjclose</th>\n",
       "      <th>volume</th>\n",
       "      <th>ticker</th>\n",
       "    </tr>\n",
       "  </thead>\n",
       "  <tbody>\n",
       "    <tr>\n",
       "      <th>0</th>\n",
       "      <td>2015-12-14</td>\n",
       "      <td>24935.599609</td>\n",
       "      <td>25194.150391</td>\n",
       "      <td>24867.730469</td>\n",
       "      <td>25150.349609</td>\n",
       "      <td>25150.349609</td>\n",
       "      <td>11600.0</td>\n",
       "      <td>^BSESN</td>\n",
       "    </tr>\n",
       "    <tr>\n",
       "      <th>1</th>\n",
       "      <td>2015-12-15</td>\n",
       "      <td>25186.679688</td>\n",
       "      <td>25342.779297</td>\n",
       "      <td>25075.539062</td>\n",
       "      <td>25320.439453</td>\n",
       "      <td>25320.439453</td>\n",
       "      <td>9700.0</td>\n",
       "      <td>^BSESN</td>\n",
       "    </tr>\n",
       "    <tr>\n",
       "      <th>2</th>\n",
       "      <td>2015-12-16</td>\n",
       "      <td>25402.470703</td>\n",
       "      <td>25572.900391</td>\n",
       "      <td>25372.470703</td>\n",
       "      <td>25494.369141</td>\n",
       "      <td>25494.369141</td>\n",
       "      <td>10800.0</td>\n",
       "      <td>^BSESN</td>\n",
       "    </tr>\n",
       "    <tr>\n",
       "      <th>3</th>\n",
       "      <td>2015-12-17</td>\n",
       "      <td>25596.630859</td>\n",
       "      <td>25831.310547</td>\n",
       "      <td>25448.320312</td>\n",
       "      <td>25803.779297</td>\n",
       "      <td>25803.779297</td>\n",
       "      <td>22700.0</td>\n",
       "      <td>^BSESN</td>\n",
       "    </tr>\n",
       "    <tr>\n",
       "      <th>4</th>\n",
       "      <td>2015-12-18</td>\n",
       "      <td>25764.669922</td>\n",
       "      <td>25789.509766</td>\n",
       "      <td>25481.509766</td>\n",
       "      <td>25519.220703</td>\n",
       "      <td>25519.220703</td>\n",
       "      <td>10400.0</td>\n",
       "      <td>^BSESN</td>\n",
       "    </tr>\n",
       "    <tr>\n",
       "      <th>...</th>\n",
       "      <td>...</td>\n",
       "      <td>...</td>\n",
       "      <td>...</td>\n",
       "      <td>...</td>\n",
       "      <td>...</td>\n",
       "      <td>...</td>\n",
       "      <td>...</td>\n",
       "      <td>...</td>\n",
       "    </tr>\n",
       "    <tr>\n",
       "      <th>1327</th>\n",
       "      <td>2021-05-03</td>\n",
       "      <td>48356.011719</td>\n",
       "      <td>48863.230469</td>\n",
       "      <td>48028.070312</td>\n",
       "      <td>48718.519531</td>\n",
       "      <td>48718.519531</td>\n",
       "      <td>14700.0</td>\n",
       "      <td>^BSESN</td>\n",
       "    </tr>\n",
       "    <tr>\n",
       "      <th>1328</th>\n",
       "      <td>2021-05-04</td>\n",
       "      <td>48881.628906</td>\n",
       "      <td>48996.531250</td>\n",
       "      <td>48149.449219</td>\n",
       "      <td>48253.511719</td>\n",
       "      <td>48253.511719</td>\n",
       "      <td>13200.0</td>\n",
       "      <td>^BSESN</td>\n",
       "    </tr>\n",
       "    <tr>\n",
       "      <th>1329</th>\n",
       "      <td>2021-05-05</td>\n",
       "      <td>48569.121094</td>\n",
       "      <td>48742.718750</td>\n",
       "      <td>48254.320312</td>\n",
       "      <td>48677.550781</td>\n",
       "      <td>48677.550781</td>\n",
       "      <td>12700.0</td>\n",
       "      <td>^BSESN</td>\n",
       "    </tr>\n",
       "    <tr>\n",
       "      <th>1330</th>\n",
       "      <td>2021-05-06</td>\n",
       "      <td>48877.781250</td>\n",
       "      <td>49011.308594</td>\n",
       "      <td>48614.109375</td>\n",
       "      <td>48949.761719</td>\n",
       "      <td>48949.761719</td>\n",
       "      <td>9500.0</td>\n",
       "      <td>^BSESN</td>\n",
       "    </tr>\n",
       "    <tr>\n",
       "      <th>1331</th>\n",
       "      <td>2021-05-07</td>\n",
       "      <td>49169.140625</td>\n",
       "      <td>49417.640625</td>\n",
       "      <td>49036.378906</td>\n",
       "      <td>49206.468750</td>\n",
       "      <td>49206.468750</td>\n",
       "      <td>0.0</td>\n",
       "      <td>^BSESN</td>\n",
       "    </tr>\n",
       "  </tbody>\n",
       "</table>\n",
       "<p>1332 rows × 8 columns</p>\n",
       "</div>"
      ],
      "text/plain": [
       "           date          open          high           low         close  \\\n",
       "0    2015-12-14  24935.599609  25194.150391  24867.730469  25150.349609   \n",
       "1    2015-12-15  25186.679688  25342.779297  25075.539062  25320.439453   \n",
       "2    2015-12-16  25402.470703  25572.900391  25372.470703  25494.369141   \n",
       "3    2015-12-17  25596.630859  25831.310547  25448.320312  25803.779297   \n",
       "4    2015-12-18  25764.669922  25789.509766  25481.509766  25519.220703   \n",
       "...         ...           ...           ...           ...           ...   \n",
       "1327 2021-05-03  48356.011719  48863.230469  48028.070312  48718.519531   \n",
       "1328 2021-05-04  48881.628906  48996.531250  48149.449219  48253.511719   \n",
       "1329 2021-05-05  48569.121094  48742.718750  48254.320312  48677.550781   \n",
       "1330 2021-05-06  48877.781250  49011.308594  48614.109375  48949.761719   \n",
       "1331 2021-05-07  49169.140625  49417.640625  49036.378906  49206.468750   \n",
       "\n",
       "          adjclose   volume  ticker  \n",
       "0     25150.349609  11600.0  ^BSESN  \n",
       "1     25320.439453   9700.0  ^BSESN  \n",
       "2     25494.369141  10800.0  ^BSESN  \n",
       "3     25803.779297  22700.0  ^BSESN  \n",
       "4     25519.220703  10400.0  ^BSESN  \n",
       "...            ...      ...     ...  \n",
       "1327  48718.519531  14700.0  ^BSESN  \n",
       "1328  48253.511719  13200.0  ^BSESN  \n",
       "1329  48677.550781  12700.0  ^BSESN  \n",
       "1330  48949.761719   9500.0  ^BSESN  \n",
       "1331  49206.468750      0.0  ^BSESN  \n",
       "\n",
       "[1332 rows x 8 columns]"
      ]
     },
     "execution_count": 44,
     "metadata": {},
     "output_type": "execute_result"
    }
   ],
   "source": [
    "from yahoo_fin.stock_info import get_data\n",
    "bsesn = get_data(\"^bsesn\", start_date=\"14/12/2015\", end_date=\"12/07/2021\", index_as_date = False, interval=\"1d\")\n",
    "bsesn"
   ]
  },
  {
   "cell_type": "markdown",
   "id": "9c1b92ff",
   "metadata": {},
   "source": [
    "# Saving the data into csv file"
   ]
  },
  {
   "cell_type": "code",
   "execution_count": 45,
   "id": "0f14a98d",
   "metadata": {},
   "outputs": [],
   "source": [
    "bsesn.to_csv(\"BSESN1.csv\")"
   ]
  },
  {
   "cell_type": "markdown",
   "id": "3daea34d",
   "metadata": {},
   "source": [
    "- This noteboook is only for extracting/ mining data; next task will be completed in the other notebook"
   ]
  },
  {
   "cell_type": "markdown",
   "id": "657d8a6a",
   "metadata": {},
   "source": [
    "# Thank You! :)"
   ]
  },
  {
   "cell_type": "code",
   "execution_count": null,
   "id": "15979303",
   "metadata": {},
   "outputs": [],
   "source": []
  }
 ],
 "metadata": {
  "kernelspec": {
   "display_name": "Python 3",
   "language": "python",
   "name": "python3"
  },
  "language_info": {
   "codemirror_mode": {
    "name": "ipython",
    "version": 3
   },
   "file_extension": ".py",
   "mimetype": "text/x-python",
   "name": "python",
   "nbconvert_exporter": "python",
   "pygments_lexer": "ipython3",
   "version": "3.8.3"
  }
 },
 "nbformat": 4,
 "nbformat_minor": 5
}
